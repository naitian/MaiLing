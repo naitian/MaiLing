{
 "cells": [
  {
   "cell_type": "code",
   "execution_count": 1,
   "metadata": {},
   "outputs": [],
   "source": [
    "import convokit"
   ]
  },
  {
   "cell_type": "code",
   "execution_count": 12,
   "metadata": {},
   "outputs": [],
   "source": [
    "corpus = convokit.Corpus(filename=\"./test.json\")"
   ]
  },
  {
   "cell_type": "code",
   "execution_count": 13,
   "metadata": {},
   "outputs": [],
   "source": [
    "ps = convokit.PolitenessStrategies(corpus)"
   ]
  },
  {
   "cell_type": "code",
   "execution_count": 14,
   "metadata": {},
   "outputs": [
    {
     "data": {
      "text/plain": [
       "Index(['feature_politeness_==Please_start==',\n",
       "       'feature_politeness_==HASNEGATIVE==',\n",
       "       'feature_politeness_==1st_person_start==',\n",
       "       'feature_politeness_==2nd_person_start==',\n",
       "       'feature_politeness_==2nd_person==',\n",
       "       'feature_politeness_==Indirect_(btw)==',\n",
       "       'feature_politeness_==Please==', 'feature_politeness_==Apologizing==',\n",
       "       'feature_politeness_==Indirect_(greeting)==',\n",
       "       'feature_politeness_==Gratitude==',\n",
       "       'feature_politeness_==1st_person_pl.==',\n",
       "       'feature_politeness_==HASPOSITIVE==',\n",
       "       'feature_politeness_==Deference==', 'feature_politeness_==Hedges==',\n",
       "       'feature_politeness_==Factuality==',\n",
       "       'feature_politeness_==INDICATIVE==',\n",
       "       'feature_politeness_==1st_person==',\n",
       "       'feature_politeness_==SUBJUNCTIVE==', 'feature_politeness_==HASHEDGE==',\n",
       "       'feature_politeness_==Direct_start==',\n",
       "       'feature_politeness_==Direct_question=='],\n",
       "      dtype='object')"
      ]
     },
     "execution_count": 14,
     "metadata": {},
     "output_type": "execute_result"
    }
   ],
   "source": [
    "ps.feature_df.columns"
   ]
  },
  {
   "cell_type": "code",
   "execution_count": 15,
   "metadata": {},
   "outputs": [],
   "source": [
    "coord = convokit.Coordination(corpus)"
   ]
  },
  {
   "cell_type": "code",
   "execution_count": 16,
   "metadata": {},
   "outputs": [],
   "source": [
    "me = corpus.users(lambda u: u.name == 'naitian@umich.edu')"
   ]
  },
  {
   "cell_type": "code",
   "execution_count": 17,
   "metadata": {},
   "outputs": [],
   "source": [
    "other = corpus.users(lambda u: u.name != 'naitian@umich.edu')"
   ]
  },
  {
   "cell_type": "code",
   "execution_count": 21,
   "metadata": {},
   "outputs": [
    {
     "data": {
      "text/plain": [
       "{User([('name', 'naitian@umich.edu')])}"
      ]
     },
     "execution_count": 21,
     "metadata": {},
     "output_type": "execute_result"
    }
   ],
   "source": [
    "me"
   ]
  },
  {
   "cell_type": "code",
   "execution_count": 18,
   "metadata": {},
   "outputs": [],
   "source": [
    "scores = coord.score(me, other)"
   ]
  },
  {
   "cell_type": "code",
   "execution_count": 19,
   "metadata": {},
   "outputs": [
    {
     "data": {
      "text/plain": [
       "{}"
      ]
     },
     "execution_count": 19,
     "metadata": {},
     "output_type": "execute_result"
    }
   ],
   "source": []
  },
  {
   "cell_type": "code",
   "execution_count": null,
   "metadata": {},
   "outputs": [],
   "source": []
  }
 ],
 "metadata": {
  "kernelspec": {
   "display_name": "Python 3",
   "language": "python",
   "name": "python3"
  },
  "language_info": {
   "codemirror_mode": {
    "name": "ipython",
    "version": 3
   },
   "file_extension": ".py",
   "mimetype": "text/x-python",
   "name": "python",
   "nbconvert_exporter": "python",
   "pygments_lexer": "ipython3",
   "version": "3.7.1"
  }
 },
 "nbformat": 4,
 "nbformat_minor": 2
}
