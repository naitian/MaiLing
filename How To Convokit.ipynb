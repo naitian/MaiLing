{
 "cells": [
  {
   "cell_type": "code",
   "execution_count": 7,
   "metadata": {},
   "outputs": [],
   "source": [
    "import convokit"
   ]
  },
  {
   "cell_type": "code",
   "execution_count": 12,
   "metadata": {},
   "outputs": [],
   "source": [
    "corpus = convokit.Corpus(filename=\"./test.json\")"
   ]
  },
  {
   "cell_type": "code",
   "execution_count": 13,
   "metadata": {},
   "outputs": [],
   "source": [
    "ps = convokit.PolitenessStrategies(corpus)"
   ]
  },
  {
   "cell_type": "code",
   "execution_count": 23,
   "metadata": {},
   "outputs": [
    {
     "data": {
      "text/plain": [
       "{'feature_politeness_==Please_start==': 1,\n",
       " 'feature_politeness_==HASNEGATIVE==': 1,\n",
       " 'feature_politeness_==1st_person_start==': 1,\n",
       " 'feature_politeness_==2nd_person_start==': 0,\n",
       " 'feature_politeness_==2nd_person==': 1,\n",
       " 'feature_politeness_==Indirect_(btw)==': 0,\n",
       " 'feature_politeness_==Please==': 0,\n",
       " 'feature_politeness_==Apologizing==': 0,\n",
       " 'feature_politeness_==Indirect_(greeting)==': 0,\n",
       " 'feature_politeness_==Gratitude==': 1,\n",
       " 'feature_politeness_==1st_person_pl.==': 0,\n",
       " 'feature_politeness_==HASPOSITIVE==': 1,\n",
       " 'feature_politeness_==Deference==': 0,\n",
       " 'feature_politeness_==Hedges==': 1,\n",
       " 'feature_politeness_==Factuality==': 0,\n",
       " 'feature_politeness_==INDICATIVE==': 0,\n",
       " 'feature_politeness_==1st_person==': 1,\n",
       " 'feature_politeness_==SUBJUNCTIVE==': 0,\n",
       " 'feature_politeness_==HASHEDGE==': 1,\n",
       " 'feature_politeness_==Direct_start==': 1,\n",
       " 'feature_politeness_==Direct_question==': 0}"
      ]
     },
     "execution_count": 23,
     "metadata": {},
     "output_type": "execute_result"
    }
   ],
   "source": [
    "ps['1']"
   ]
  },
  {
   "cell_type": "code",
   "execution_count": 15,
   "metadata": {},
   "outputs": [],
   "source": [
    "coord = convokit.Coordination(corpus)"
   ]
  },
  {
   "cell_type": "code",
   "execution_count": 16,
   "metadata": {},
   "outputs": [],
   "source": [
    "me = corpus.users(lambda u: u.name == 'naitian@umich.edu')"
   ]
  },
  {
   "cell_type": "code",
   "execution_count": 17,
   "metadata": {},
   "outputs": [],
   "source": [
    "other = corpus.users(lambda u: u.name != 'naitian@umich.edu')"
   ]
  },
  {
   "cell_type": "code",
   "execution_count": 21,
   "metadata": {},
   "outputs": [
    {
     "data": {
      "text/plain": [
       "{User([('name', 'naitian@umich.edu')])}"
      ]
     },
     "execution_count": 21,
     "metadata": {},
     "output_type": "execute_result"
    }
   ],
   "source": [
    "me"
   ]
  },
  {
   "cell_type": "code",
   "execution_count": 18,
   "metadata": {},
   "outputs": [],
   "source": [
    "scores = coord.score(me, other)"
   ]
  },
  {
   "cell_type": "code",
   "execution_count": null,
   "metadata": {},
   "outputs": [],
   "source": [
    "print('hi')"
   ]
  },
  {
   "cell_type": "code",
   "execution_count": 1,
   "metadata": {},
   "outputs": [
    {
     "name": "stderr",
     "output_type": "stream",
     "text": [
      "/usr/local/lib/python3.7/site-packages/sklearn/base.py:251: UserWarning: Trying to unpickle estimator SVC from version 0.18.1 when using version 0.20.1. This might lead to breaking code or invalid results. Use at your own risk.\n",
      "  UserWarning)\n"
     ]
    }
   ],
   "source": [
    "from brain import score_draft"
   ]
  },
  {
   "cell_type": "code",
   "execution_count": 11,
   "metadata": {},
   "outputs": [],
   "source": [
    "\n",
    "\n",
    "def format_draft(draft, email_addr):\n",
    "    return convokit.Utterance(id=1, user=email_addr, root=1, reply_to=None, text=draft)\n",
    "\n",
    "\n",
    "def rescale(politeness):\n",
    "    max_politeness = .8\n",
    "    pol = min(politeness['polite'], max_politeness)\n",
    "    pol = (pol + (1 - max_politeness) / 2) / ((max_politeness + 1) / 2)\n",
    "    impol = 1 - pol\n",
    "    return {'polite': pol, 'impolite': impol}\n",
    "\n",
    "\n",
    "def score_draft(draft, email_addr=\"ben@example.com\"):\n",
    "    print(\"hello\")\n",
    "    utterance = format_draft(draft, email_addr)\n",
    "    print(utterance.id)\n",
    "    corpus = convokit.Corpus(utterances=[utterance])\n",
    "    ps = convokit.PolitenessStrategies(corpus)\n",
    "    indicators = ps[utterance.id]\n",
    "    document = PolitenessFeatureVectorizer.preprocess([{'text': utterance.text}])[0]\n",
    "    politeness = rescale(model.score(document))\n",
    "    print(politeness)\n",
    "    return {\n",
    "        'score': politeness,\n",
    "        'indicators': indicators\n",
    "    }\n"
   ]
  },
  {
   "cell_type": "code",
   "execution_count": 12,
   "metadata": {},
   "outputs": [
    {
     "name": "stdout",
     "output_type": "stream",
     "text": [
      "hello\n",
      "1\n"
     ]
    },
    {
     "ename": "NameError",
     "evalue": "name 'PolitenessFeatureVectorizer' is not defined",
     "output_type": "error",
     "traceback": [
      "\u001b[0;31m---------------------------------------------------------------------------\u001b[0m",
      "\u001b[0;31mNameError\u001b[0m                                 Traceback (most recent call last)",
      "\u001b[0;32m<ipython-input-12-b0b59e307ebc>\u001b[0m in \u001b[0;36m<module>\u001b[0;34m\u001b[0m\n\u001b[0;32m----> 1\u001b[0;31m \u001b[0mscore_draft\u001b[0m\u001b[0;34m(\u001b[0m\u001b[0;34m'Hello, what is your name?'\u001b[0m\u001b[0;34m,\u001b[0m \u001b[0;34m'naitian@umich.edu'\u001b[0m\u001b[0;34m)\u001b[0m\u001b[0;34m\u001b[0m\u001b[0;34m\u001b[0m\u001b[0m\n\u001b[0m",
      "\u001b[0;32m<ipython-input-11-691b57b25e6b>\u001b[0m in \u001b[0;36mscore_draft\u001b[0;34m(draft, email_addr)\u001b[0m\n\u001b[1;32m     20\u001b[0m     \u001b[0mps\u001b[0m \u001b[0;34m=\u001b[0m \u001b[0mconvokit\u001b[0m\u001b[0;34m.\u001b[0m\u001b[0mPolitenessStrategies\u001b[0m\u001b[0;34m(\u001b[0m\u001b[0mcorpus\u001b[0m\u001b[0;34m)\u001b[0m\u001b[0;34m\u001b[0m\u001b[0;34m\u001b[0m\u001b[0m\n\u001b[1;32m     21\u001b[0m     \u001b[0mindicators\u001b[0m \u001b[0;34m=\u001b[0m \u001b[0mps\u001b[0m\u001b[0;34m[\u001b[0m\u001b[0mutterance\u001b[0m\u001b[0;34m.\u001b[0m\u001b[0mid\u001b[0m\u001b[0;34m]\u001b[0m\u001b[0;34m\u001b[0m\u001b[0;34m\u001b[0m\u001b[0m\n\u001b[0;32m---> 22\u001b[0;31m     \u001b[0mdocument\u001b[0m \u001b[0;34m=\u001b[0m \u001b[0mPolitenessFeatureVectorizer\u001b[0m\u001b[0;34m.\u001b[0m\u001b[0mpreprocess\u001b[0m\u001b[0;34m(\u001b[0m\u001b[0;34m[\u001b[0m\u001b[0;34m{\u001b[0m\u001b[0;34m'text'\u001b[0m\u001b[0;34m:\u001b[0m \u001b[0mutterance\u001b[0m\u001b[0;34m.\u001b[0m\u001b[0mtext\u001b[0m\u001b[0;34m}\u001b[0m\u001b[0;34m]\u001b[0m\u001b[0;34m)\u001b[0m\u001b[0;34m[\u001b[0m\u001b[0;36m0\u001b[0m\u001b[0;34m]\u001b[0m\u001b[0;34m\u001b[0m\u001b[0;34m\u001b[0m\u001b[0m\n\u001b[0m\u001b[1;32m     23\u001b[0m     \u001b[0mpoliteness\u001b[0m \u001b[0;34m=\u001b[0m \u001b[0mrescale\u001b[0m\u001b[0;34m(\u001b[0m\u001b[0mmodel\u001b[0m\u001b[0;34m.\u001b[0m\u001b[0mscore\u001b[0m\u001b[0;34m(\u001b[0m\u001b[0mdocument\u001b[0m\u001b[0;34m)\u001b[0m\u001b[0;34m)\u001b[0m\u001b[0;34m\u001b[0m\u001b[0;34m\u001b[0m\u001b[0m\n\u001b[1;32m     24\u001b[0m     \u001b[0mprint\u001b[0m\u001b[0;34m(\u001b[0m\u001b[0mpoliteness\u001b[0m\u001b[0;34m)\u001b[0m\u001b[0;34m\u001b[0m\u001b[0;34m\u001b[0m\u001b[0m\n",
      "\u001b[0;31mNameError\u001b[0m: name 'PolitenessFeatureVectorizer' is not defined"
     ]
    }
   ],
   "source": [
    "score_draft('Hello, what is your name?', 'naitian@umich.edu')"
   ]
  },
  {
   "cell_type": "code",
   "execution_count": null,
   "metadata": {},
   "outputs": [],
   "source": []
  }
 ],
 "metadata": {
  "kernelspec": {
   "display_name": "Python 3",
   "language": "python",
   "name": "python3"
  },
  "language_info": {
   "codemirror_mode": {
    "name": "ipython",
    "version": 3
   },
   "file_extension": ".py",
   "mimetype": "text/x-python",
   "name": "python",
   "nbconvert_exporter": "python",
   "pygments_lexer": "ipython3",
   "version": "3.7.1"
  }
 },
 "nbformat": 4,
 "nbformat_minor": 2
}
